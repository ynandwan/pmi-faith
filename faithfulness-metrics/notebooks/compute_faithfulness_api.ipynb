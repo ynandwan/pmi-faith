{
 "cells": [
  {
   "cell_type": "code",
   "execution_count": null,
   "id": "8770a0ec",
   "metadata": {
    "tags": []
   },
   "outputs": [],
   "source": [
    "\n"
   ]
  },
  {
   "cell_type": "code",
   "execution_count": 1,
   "id": "e1d2b23e",
   "metadata": {
    "tags": []
   },
   "outputs": [],
   "source": [
    "import sys"
   ]
  },
  {
   "cell_type": "code",
   "execution_count": 2,
   "id": "1ff2c90f",
   "metadata": {
    "tags": []
   },
   "outputs": [],
   "source": [
    "sys.path.append('../src')"
   ]
  },
  {
   "cell_type": "code",
   "execution_count": 3,
   "id": "5206bbe6-9723-4809-99eb-f03e71cb47e7",
   "metadata": {
    "tags": []
   },
   "outputs": [],
   "source": [
    "import compute_faithfulness_api as faithfulness"
   ]
  },
  {
   "cell_type": "code",
   "execution_count": null,
   "id": "360f2d59",
   "metadata": {
    "tags": []
   },
   "outputs": [],
   "source": []
  },
  {
   "cell_type": "code",
   "execution_count": null,
   "id": "a9b7f3f5",
   "metadata": {
    "tags": []
   },
   "outputs": [],
   "source": []
  },
  {
   "cell_type": "code",
   "execution_count": 4,
   "id": "1e78cf7e",
   "metadata": {},
   "outputs": [],
   "source": [
    "document = \"I don t have enough proof of name identification to bring to the DMV. What can I do? \\\n",
    "You may already have more proof documents than you think ,  \\\n",
    "or you may be able to get some proof documents.  Here are some suggestions.  \\\n",
    "Bank card debit with your name preprinted on it.  \\\n",
    "Some banks will give you a card the same day you open an account.  \\\n",
    "Online bill printouts.  You can print out a copy of a paperless bill.  \\\n",
    "For example ,  a phone bill, electricity / gas bill, water bill or cable bill.  \\\n",
    "Divorce papers.  You can contact your lawyer to find out where to go to obtain the papers, \\\n",
    "or check with the state where you got divorced.  Remember ,  you must show us the original \\\n",
    "documents or a certified copy.  Duplicate marriage certificate.  You can check with the city, \\\n",
    "town or county where you were married.  A lot of localities will allow you to order duplicates online.  \\\n",
    "High school diploma or GED.  You can contact the education department in the \\\n",
    "state where you graduated for a certified copy.  If you attended school at a Community College ,  \\\n",
    "you may have received a General Educational Development GED certificate.  You can contact the college \\\n",
    "for a certified copy.  U.S. college transcripts.  You can order these from a college or \\\n",
    "university you attended, even if you did not graduate there.  You will need to have a photo ID \\\n",
    "from the college.  Work ID ,  paystub or a W2 from state.  These documents do not have to be \\\n",
    "from New York and they do not have to be current.  Union card.  The card can be from another \\\n",
    "state.  If you lost the card ,  you can ask the union for help getting a duplicate.  Even if \\\n",
    "you no longer have that union job ,  you may be a member for life.  Life insurance policy.  \\\n",
    "Check with your parents or spouse if they ever had a life insurance policy in your name.  The \\\n",
    "policy must be in effect for at least 2 years.  Check cashing card from a supermarket chain with \\\n",
    "your name printed on it.\""
   ]
  },
  {
   "cell_type": "code",
   "execution_count": 5,
   "id": "7153eeef",
   "metadata": {},
   "outputs": [],
   "source": [
    "history = \"user: My insurance ended so what should i do\\n \\\n",
    "agent: You will need to get insurance or we will suspend your registration and license\\n\\\n",
    "user: Don't do that I'll get insurance\\n\\\n",
    "agent: Okay, have you received a letter from the DMV letting you know how to clear things up?\\n\\\n",
    "user: I have, that is why I am here to clear that up and change the address on my license and registration\\n\\\n",
    "agent: Okay, we can take care of that\\n\\\n",
    "user: Thank you so much. After looking through these requirements that I need to bring to DMV, \\\n",
    "can you tell me whether a GED certificate will be a valid proof of identification?\\n\\\n",
    "agent: Sure, it is. You can contact your college and get a certified copy.\\n\\\n",
    "user: Great. I think that I can found some bills, of some services, would that help too?\"\n",
    "    \n",
    "gold_response = \"Yes, it will. You can bring a copy of the bill and the original.\""
   ]
  },
  {
   "cell_type": "code",
   "execution_count": 6,
   "id": "5e872c9a-7dc5-4351-af09-3ce0f2c5d68d",
   "metadata": {
    "tags": []
   },
   "outputs": [
    {
     "name": "stderr",
     "output_type": "stream",
     "text": [
      "Some weights of the model checkpoint at roberta-large were not used when initializing RobertaModel: ['lm_head.decoder.weight', 'lm_head.layer_norm.bias', 'lm_head.layer_norm.weight', 'lm_head.bias', 'lm_head.dense.bias', 'lm_head.dense.weight']\n",
      "- This IS expected if you are initializing RobertaModel from the checkpoint of a model trained on another task or with another architecture (e.g. initializing a BertForSequenceClassification model from a BertForPreTraining model).\n",
      "- This IS NOT expected if you are initializing RobertaModel from the checkpoint of a model that you expect to be exactly identical (initializing a BertForSequenceClassification model from a BertForSequenceClassification model).\n"
     ]
    }
   ],
   "source": [
    "model_name = 'bigscience/bloom-560m'\n",
    "model,tokenizer = faithfulness.get_huggingface_pretrained_model(model_name, device_map = 'auto')\n",
    "\n",
    "api = faithfulness.ComputeFaithfulness((model, tokenizer))"
   ]
  },
  {
   "cell_type": "code",
   "execution_count": 7,
   "id": "c6fb757b",
   "metadata": {},
   "outputs": [
    {
     "name": "stderr",
     "output_type": "stream",
     "text": [
      "Asking to truncate to max_length but no maximum length is provided and the model has no predefined maximum length. Default to no truncation.\n"
     ]
    }
   ],
   "source": [
    "result = api.compute_faithfulness(document, history, response = gold_response)\n"
   ]
  },
  {
   "cell_type": "code",
   "execution_count": 8,
   "id": "cf964a3d-d72c-4e53-8eff-e868d60293a1",
   "metadata": {
    "tags": []
   },
   "outputs": [
    {
     "name": "stdout",
     "output_type": "stream",
     "text": [
      "{'pmi': {'score': 0.09314918518066406, 'latency': 0.5148520469665527}, 'pmi_logprob_hd': {'score': -2.3956809043884277, 'latency': 0.5148520469665527}, 'pmi_logprob_h': {'score': -2.488830089569092, 'latency': 0.5148520469665527}, 'uncond_pmi': {'score': 0.36318039894104004, 'latency': 0.07404017448425293}, 'uncond_pmi_logprob_d': {'score': -3.442732095718384, 'latency': 0.07404017448425293}, 'uncond_pmi_logprob': {'score': -3.805912494659424, 'latency': 0.07404017448425293}, 'bleu': {'score': 3.2940468772244546e-09, 'latency': 0.02051997184753418}, 'bert_score': {'score': -0.09820233285427094, 'latency': 0.07645869255065918}, 'overlap': {'score': 0.04188481675392671, 'latency': 0.4889380931854248}, 'rougel': {'score': 0.0554016620498615, 'latency': 0.10475444793701172}}\n"
     ]
    }
   ],
   "source": [
    "print(result)"
   ]
  },
  {
   "cell_type": "code",
   "execution_count": null,
   "id": "64460842-682b-4f63-8bb8-f95fe920bdf0",
   "metadata": {},
   "outputs": [],
   "source": []
  },
  {
   "cell_type": "code",
   "execution_count": 10,
   "id": "a33adf3c-516c-471f-a73f-37e4da29ac2b",
   "metadata": {
    "tags": []
   },
   "outputs": [],
   "source": [
    "document = 'Apple is orange in color.'\n",
    "history = 'User: What is the color of an apple?'\n",
    "response = 'Apple is red in color.'\n"
   ]
  },
  {
   "cell_type": "code",
   "execution_count": 11,
   "id": "e21bf5e5-670a-4a80-8ba0-ca4419281bad",
   "metadata": {
    "tags": []
   },
   "outputs": [],
   "source": [
    "result = api.compute_faithfulness(document, history, response = response)\n"
   ]
  },
  {
   "cell_type": "code",
   "execution_count": 12,
   "id": "8e37532e-ab94-4c90-bf8c-55d2c4e50009",
   "metadata": {
    "tags": []
   },
   "outputs": [
    {
     "data": {
      "text/plain": [
       "{'pmi': {'score': 1.1194100379943848, 'latency': 0.02972555160522461},\n",
       " 'pmi_logprob_hd': {'score': -2.9767942428588867,\n",
       "  'latency': 0.02972555160522461},\n",
       " 'pmi_logprob_h': {'score': -4.0962042808532715,\n",
       "  'latency': 0.02972555160522461},\n",
       " 'uncond_pmi': {'score': 3.29990291595459, 'latency': 0.06269502639770508},\n",
       " 'uncond_pmi_logprob_d': {'score': -3.5224623680114746,\n",
       "  'latency': 0.06269502639770508},\n",
       " 'uncond_pmi_logprob': {'score': -6.8223652839660645,\n",
       "  'latency': 0.06269502639770508},\n",
       " 'bleu': {'score': 32.46679154750991, 'latency': 0.00023603439331054688},\n",
       " 'bert_score': {'score': 0.8761284351348877, 'latency': 0.012249231338500977},\n",
       " 'overlap': {'score': 0.6666666666666666, 'latency': 0.007340431213378906},\n",
       " 'rougel': {'score': 0.8000000000000002, 'latency': 0.00036144256591796875}}"
      ]
     },
     "execution_count": 12,
     "metadata": {},
     "output_type": "execute_result"
    }
   ],
   "source": [
    "result"
   ]
  },
  {
   "cell_type": "code",
   "execution_count": 13,
   "id": "81175395-390a-42c8-9cef-539c99f84554",
   "metadata": {
    "tags": []
   },
   "outputs": [],
   "source": [
    "result = api.compute_faithfulness(document, history, response = 'apple is orange in color')\n"
   ]
  },
  {
   "cell_type": "code",
   "execution_count": 14,
   "id": "1c0be7b2-2f96-4bd1-be43-9b3bb57ace07",
   "metadata": {
    "tags": []
   },
   "outputs": [
    {
     "data": {
      "text/plain": [
       "{'pmi': {'score': 1.5960819721221924, 'latency': 0.029942035675048828},\n",
       " 'pmi_logprob_hd': {'score': -2.234575033187866,\n",
       "  'latency': 0.029942035675048828},\n",
       " 'pmi_logprob_h': {'score': -3.8306570053100586,\n",
       "  'latency': 0.029942035675048828},\n",
       " 'uncond_pmi': {'score': 3.2273108959198, 'latency': 0.026823043823242188},\n",
       " 'uncond_pmi_logprob_d': {'score': -2.7760417461395264,\n",
       "  'latency': 0.026823043823242188},\n",
       " 'uncond_pmi_logprob': {'score': -6.003352642059326,\n",
       "  'latency': 0.026823043823242188},\n",
       " 'bleu': {'score': 81.87307530779823, 'latency': 0.000213623046875},\n",
       " 'bert_score': {'score': 0.9497129321098328, 'latency': 0.01186513900756836},\n",
       " 'overlap': {'score': 1.0, 'latency': 0.0071065425872802734},\n",
       " 'rougel': {'score': 1.0, 'latency': 0.0003750324249267578}}"
      ]
     },
     "execution_count": 14,
     "metadata": {},
     "output_type": "execute_result"
    }
   ],
   "source": [
    "result"
   ]
  },
  {
   "cell_type": "code",
   "execution_count": null,
   "id": "672e1f0d-1244-41e0-a747-5e6a5cd47cd4",
   "metadata": {},
   "outputs": [],
   "source": []
  }
 ],
 "metadata": {
  "kernelspec": {
   "display_name": "Python [conda env:pmifaith]",
   "language": "python",
   "name": "conda-env-pmifaith-py"
  },
  "language_info": {
   "codemirror_mode": {
    "name": "ipython",
    "version": 3
   },
   "file_extension": ".py",
   "mimetype": "text/x-python",
   "name": "python",
   "nbconvert_exporter": "python",
   "pygments_lexer": "ipython3",
   "version": "3.10.13"
  }
 },
 "nbformat": 4,
 "nbformat_minor": 5
}
